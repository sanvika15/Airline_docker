{
  "nbformat": 4,
  "nbformat_minor": 0,
  "metadata": {
    "colab": {
      "provenance": [],
      "authorship_tag": "ABX9TyNlswy055zQvqooFGfMpsmq",
      "include_colab_link": true
    },
    "kernelspec": {
      "name": "python3",
      "display_name": "Python 3"
    },
    "language_info": {
      "name": "python"
    }
  },
  "cells": [
    {
      "cell_type": "markdown",
      "metadata": {
        "id": "view-in-github",
        "colab_type": "text"
      },
      "source": [
        "<a href=\"https://colab.research.google.com/github/sanvika15/Airline_docker/blob/main/dsa_in_py_2.ipynb\" target=\"_parent\"><img src=\"https://colab.research.google.com/assets/colab-badge.svg\" alt=\"Open In Colab\"/></a>"
      ]
    },
    {
      "cell_type": "code",
      "execution_count": null,
      "metadata": {
        "id": "7ulP1jw11B_c"
      },
      "outputs": [],
      "source": []
    },
    {
      "cell_type": "markdown",
      "source": [],
      "metadata": {
        "id": "s2yVyT5f1E_t"
      }
    },
    {
      "cell_type": "code",
      "source": [
        "class Node :\n",
        "  def __init__(self, data):\n",
        "    self.data = data\n",
        "    self.children = []\n",
        "    self.left = null\n",
        "    self.right = null"
      ],
      "metadata": {
        "id": "6pUH5cYz1FG9"
      },
      "execution_count": 1,
      "outputs": []
    },
    {
      "cell_type": "code",
      "source": [
        "class BinaryTree :\n",
        "  def __init__(self, root):\n",
        "    self.root = Node(root)"
      ],
      "metadata": {
        "id": "Bw6ss7hr19Q9"
      },
      "execution_count": 2,
      "outputs": []
    },
    {
      "cell_type": "markdown",
      "source": [
        "Level order traveral of a tree :"
      ],
      "metadata": {
        "id": "CYZdVN9i1-LE"
      }
    },
    {
      "cell_type": "code",
      "source": [
        "def levelOrder(root):\n",
        "    if root is None:\n",
        "        return\n",
        "\n",
        "    queue = [root]\n",
        "    while(len(queue) > 0):\n",
        "        node = queue.pop(0)\n",
        "        print(node.val, end=\" \")\n",
        "\n",
        "        if node.left is not None:\n",
        "            queue.append(node.left)\n",
        "\n",
        "        if node.right is not None:\n",
        "            queue.append(node.right)"
      ],
      "metadata": {
        "id": "KGF14vJu2CKF"
      },
      "execution_count": null,
      "outputs": []
    },
    {
      "cell_type": "markdown",
      "source": [
        "Evaluate an xepressijon using stacks"
      ],
      "metadata": {
        "id": "AQ4zn8Ui5we-"
      }
    },
    {
      "cell_type": "code",
      "source": [
        "import re\n",
        "\n",
        "def evaluate_expression(expression):\n",
        "    # Extract numbers and operators from the expression string\n",
        "    elements = re.findall(r'(\\d+|\\+|\\-|\\*|\\/)', expression)\n",
        "\n",
        "    # Initialize the result to the first number\n",
        "    result = int(elements[0])\n",
        "\n",
        "    # Apply each operator to the previous result and the current number\n",
        "    for i in range(1, len(elements), 2):\n",
        "        operator = elements[i]\n",
        "        num = int(elements[i+1])\n",
        "        if operator == '+':\n",
        "            result += num\n",
        "        elif operator == '-':\n",
        "            result -= num\n",
        "        elif operator == '*':\n",
        "            result *= num\n",
        "        elif operator == '/':\n",
        "            result /= num\n",
        "\n",
        "    return result\n",
        "\n",
        "# Test the function\n",
        "expression = \"5+3*8/2-4\"\n",
        "print(\"The original string is:\", expression)\n",
        "print(\"The evaluated result is:\", evaluate_expression(expression))"
      ],
      "metadata": {
        "colab": {
          "base_uri": "https://localhost:8080/"
        },
        "id": "dexnlrnr40pX",
        "outputId": "831cf507-49ad-4964-992a-5177f334ac43"
      },
      "execution_count": 4,
      "outputs": [
        {
          "output_type": "stream",
          "name": "stdout",
          "text": [
            "The original string is: 5+3*8/2-4\n",
            "The evaluated result is: 28.0\n"
          ]
        }
      ]
    },
    {
      "cell_type": "code",
      "source": [
        "def solve(numbers, operators):\n",
        "    b = numbers.pop()\n",
        "    a = numbers.pop()\n",
        "    op = operators.pop()\n",
        "\n",
        "    if op == '+':\n",
        "        numbers.append(a + b)\n",
        "    elif op == '-':\n",
        "        numbers.append(a - b)\n",
        "\n",
        "def evaluate(expression):\n",
        "    numbers = []\n",
        "    operators = []\n",
        "    i = 0\n",
        "\n",
        "    while i < len(expression):\n",
        "        if expression[i].isdigit():\n",
        "            num = 0\n",
        "            while i < len(expression) and expression[i].isdigit():\n",
        "                num = num * 10 + int(expression[i])\n",
        "                i += 1\n",
        "            numbers.append(num)\n",
        "        else:\n",
        "            while len(operators) > 0:\n",
        "                solve(numbers, operators)\n",
        "            operators.append(expression[i])\n",
        "            i += 1\n",
        "\n",
        "    while len(operators) > 0:\n",
        "        solve(numbers, operators)\n",
        "\n",
        "    return numbers[-1]\n",
        "\n",
        "result = evaluate(\"23+45-24+3-5\")\n",
        "print(result)\n"
      ],
      "metadata": {
        "colab": {
          "base_uri": "https://localhost:8080/"
        },
        "id": "zNdWiVdVAdho",
        "outputId": "8173e645-1694-4f32-f997-fff99fc3110c"
      },
      "execution_count": 5,
      "outputs": [
        {
          "output_type": "stream",
          "name": "stdout",
          "text": [
            "42\n"
          ]
        }
      ]
    },
    {
      "cell_type": "code",
      "source": [
        "class TreeNode:\n",
        "    def __init__(self, value):\n",
        "        self.value = value  # can be operator or number\n",
        "        self.left = None\n",
        "        self.right = None\n",
        "\n",
        "# Step 1: Build Expression Tree\n",
        "def build_expression_tree(expression):\n",
        "    def precedence(op):\n",
        "        if op in ['+', '-']:\n",
        "            return 1\n",
        "        return 0\n",
        "\n",
        "    def to_node(op, left, right):\n",
        "        node = TreeNode(op)\n",
        "        node.left = left\n",
        "        node.right = right\n",
        "        return node\n",
        "\n",
        "    numbers = []\n",
        "    operators = []\n",
        "    i = 0\n",
        "\n",
        "    while i < len(expression):\n",
        "        if expression[i].isdigit():\n",
        "            num = 0\n",
        "            while i < len(expression) and expression[i].isdigit():\n",
        "                num = num * 10 + int(expression[i])\n",
        "                i += 1\n",
        "            numbers.append(TreeNode(num))\n",
        "        else:\n",
        "            while (operators and\n",
        "                   precedence(operators[-1]) >= precedence(expression[i])):\n",
        "                op = operators.pop()\n",
        "                right = numbers.pop()\n",
        "                left = numbers.pop()\n",
        "                numbers.append(to_node(op, left, right))\n",
        "            operators.append(expression[i])\n",
        "            i += 1\n",
        "\n",
        "    while operators:\n",
        "        op = operators.pop()\n",
        "        right = numbers.pop()\n",
        "        left = numbers.pop()\n",
        "        numbers.append(to_node(op, left, right))\n",
        "\n",
        "    return numbers[0]\n",
        "\n",
        "# Step 2: Evaluate the Expression Tree\n",
        "def evaluate_tree(node):\n",
        "    if node.left is None and node.right is None:\n",
        "        return node.value\n",
        "\n",
        "    left_val = evaluate_tree(node.left)\n",
        "    right_val = evaluate_tree(node.right)\n",
        "\n",
        "    if node.value == '+':\n",
        "        return left_val + right_val\n",
        "    elif node.value == '-':\n",
        "        return left_val - right_val\n",
        "\n",
        "# Wrapper function\n",
        "def evaluate(expression):\n",
        "    tree_root = build_expression_tree(expression)\n",
        "    return evaluate_tree(tree_root)\n",
        "\n",
        "# Test\n",
        "result = evaluate(\"23+45-24+3-5\")\n",
        "print(result)  # Output: 42\n"
      ],
      "metadata": {
        "colab": {
          "base_uri": "https://localhost:8080/"
        },
        "id": "qysesvU7AGAq",
        "outputId": "c966fef7-f33e-43fc-fce1-3aa364c2925e"
      },
      "execution_count": 6,
      "outputs": [
        {
          "output_type": "stream",
          "name": "stdout",
          "text": [
            "42\n"
          ]
        }
      ]
    },
    {
      "cell_type": "code",
      "source": [],
      "metadata": {
        "id": "NFeEW0qpRtRc"
      },
      "execution_count": null,
      "outputs": []
    }
  ]
}